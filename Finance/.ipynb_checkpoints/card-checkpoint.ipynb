{
 "cells": [
  {
   "cell_type": "markdown",
   "metadata": {},
   "source": [
    "# Round 31"
   ]
  },
  {
   "cell_type": "code",
   "execution_count": 1,
   "metadata": {},
   "outputs": [
    {
     "name": "stdout",
     "output_type": "stream",
     "text": [
      "Input\n",
      "revealed clover: 11\n",
      "revealed diamond: 13\n",
      "revealed heart: 13\n",
      "revealed spade: 12\n",
      "\n",
      "Price Table:\n"
     ]
    },
    {
     "data": {
      "text/html": [
       "<div>\n",
       "<style scoped>\n",
       "    .dataframe tbody tr th:only-of-type {\n",
       "        vertical-align: middle;\n",
       "    }\n",
       "\n",
       "    .dataframe tbody tr th {\n",
       "        vertical-align: top;\n",
       "    }\n",
       "\n",
       "    .dataframe thead th {\n",
       "        text-align: right;\n",
       "    }\n",
       "</style>\n",
       "<table border=\"1\" class=\"dataframe\">\n",
       "  <thead>\n",
       "    <tr style=\"text-align: right;\">\n",
       "      <th></th>\n",
       "      <th>clover</th>\n",
       "      <th>diamond</th>\n",
       "      <th>heart</th>\n",
       "      <th>spade</th>\n",
       "    </tr>\n",
       "  </thead>\n",
       "  <tbody>\n",
       "    <tr>\n",
       "      <th>price revealed</th>\n",
       "      <td>66.666667</td>\n",
       "      <td>0.0</td>\n",
       "      <td>0.0</td>\n",
       "      <td>33.333333</td>\n",
       "    </tr>\n",
       "  </tbody>\n",
       "</table>\n",
       "</div>"
      ],
      "text/plain": [
       "                   clover  diamond  heart      spade\n",
       "price revealed  66.666667      0.0    0.0  33.333333"
      ]
     },
     "execution_count": 1,
     "metadata": {},
     "output_type": "execute_result"
    }
   ],
   "source": [
    "import pandas as pd\n",
    "\n",
    "# Quantity\n",
    "total_card                              = 52\n",
    "\n",
    "# Price\n",
    "price_revealed                          = [0,0,0,0]\n",
    "\n",
    "# Define list for row name and column name for pandas dataframe\n",
    "securities                              = ['clover','diamond','heart','spade']\n",
    "prices_names                            = ['price revealed']\n",
    "\n",
    "\n",
    "################## Calculate price of securities ##################\n",
    "\n",
    "revealed_card = []\n",
    "\n",
    "print(\"Input\")\n",
    "\n",
    "# Input cards that are revealed\n",
    "for j in securities:\n",
    "    revealed_card_str                   = input(f\"revealed {j}: \")\n",
    "    revealed_card.append(float(revealed_card_str))\n",
    "\n",
    "# Calculate price revealed and price that I can find using my cards\n",
    "total_revealed                          = total_card - sum(revealed_card)\n",
    "\n",
    "for j in range(4):\n",
    "    price_revealed[j]                   = ((total_card/4 - revealed_card[j]) / total_revealed * 100)\n",
    "\n",
    "price_revealed\n",
    "\n",
    "df                                      = pd.DataFrame([price_revealed],\n",
    "                                                       columns=securities,\n",
    "                                                       index=prices_names)\n",
    "print(\"\")\n",
    "print(\"Price Table:\")\n",
    "df"
   ]
  },
  {
   "cell_type": "code",
   "execution_count": null,
   "metadata": {},
   "outputs": [],
   "source": []
  }
 ],
 "metadata": {
  "kernelspec": {
   "display_name": "Python 3 (ipykernel)",
   "language": "python",
   "name": "python3"
  },
  "language_info": {
   "codemirror_mode": {
    "name": "ipython",
    "version": 3
   },
   "file_extension": ".py",
   "mimetype": "text/x-python",
   "name": "python",
   "nbconvert_exporter": "python",
   "pygments_lexer": "ipython3",
   "version": "3.11.3"
  }
 },
 "nbformat": 4,
 "nbformat_minor": 2
}
