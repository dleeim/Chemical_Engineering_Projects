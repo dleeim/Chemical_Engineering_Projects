{
 "cells": [
  {
   "cell_type": "code",
   "execution_count": 1,
   "metadata": {},
   "outputs": [
    {
     "name": "stdout",
     "output_type": "stream",
     "text": [
      "                   clover    diamond      heart      spade\n",
      "price revealed  24.489796  24.489796  24.489796  26.530612\n",
      "price mine      24.489796  24.489796  24.489796  26.530612\n"
     ]
    }
   ],
   "source": [
    "import pandas as pd\n",
    "\n",
    "# Quantity\n",
    "total_card                              = 52\n",
    "round_game                              = 1\n",
    "\n",
    "# Price\n",
    "price_revealed                          = [0,0,0,0]\n",
    "price_mine                              = [0,0,0,0]\n",
    "\n",
    "# Define list for row name and column name for pandas dataframe\n",
    "securities                              = ['clover','diamond','heart','spade']\n",
    "prices_names                            = ['price revealed','price mine']\n",
    "\n",
    "\n",
    "################## Calculate price of securities ##################\n",
    "\n",
    "for i in range(round_game):\n",
    "\n",
    "    my_card = []\n",
    "    revealed_card = []\n",
    "\n",
    "    # Input cards that I have (For Market Makers, Not For Spectators)\n",
    "    for j in securities:\n",
    "        my_card_str                     = input(f\"what is my {j}: \")\n",
    "        my_card.append(float(my_card_str))\n",
    "\n",
    "    # Input cards that are revealed\n",
    "    for j in securities:\n",
    "        revealed_card_str               = input(f\"revealed {j}: \")\n",
    "        revealed_card.append(float(revealed_card_str))\n",
    "\n",
    "    # Calculate price revealed and price that I can find using my cards\n",
    "    total_revealed                      = total_card - sum(revealed_card)\n",
    "    total_mine                          = total_revealed - sum(my_card)\n",
    "\n",
    "    for j in range(4):\n",
    "        price_revealed[j]               = ((total_card/4 - revealed_card[j]) / total_revealed * 100)\n",
    "        price_mine[j]                   = ((total_card/4 - revealed_card[j] - my_card[j]) / total_mine * 100)\n",
    "\n",
    "    # Print the prices\n",
    "    price                               = [price_revealed,\n",
    "                                           price_mine]\n",
    "\n",
    "    df                                  = pd.DataFrame(price,\n",
    "                                                       columns=securities,\n",
    "                                                       index=prices_names)\n",
    "    print(df)\n",
    "\n"
   ]
  }
 ],
 "metadata": {
  "kernelspec": {
   "display_name": "myenv",
   "language": "python",
   "name": "python3"
  },
  "language_info": {
   "codemirror_mode": {
    "name": "ipython",
    "version": 3
   },
   "file_extension": ".py",
   "mimetype": "text/x-python",
   "name": "python",
   "nbconvert_exporter": "python",
   "pygments_lexer": "ipython3",
   "version": "3.11.5"
  }
 },
 "nbformat": 4,
 "nbformat_minor": 2
}
